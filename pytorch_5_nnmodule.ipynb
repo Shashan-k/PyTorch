{
 "cells": [
  {
   "cell_type": "code",
   "execution_count": 2,
   "metadata": {},
   "outputs": [],
   "source": [
    "## Will replace all the manual function in the previous pipeline with nn module\n",
    "import torch\n",
    "import torch.nn as nn\n",
    "\n",
    "# Create a model class\n",
    "class Model(nn.Module):\n",
    "    def __init__(self,num_features):\n",
    "        super().__init__()\n",
    "        self.linear = nn.Linear(num_features,1) # Give the input and output \n",
    "        self.sigmoid = nn.Sigmoid()\n",
    "\n",
    "    def forward(self,features):\n",
    "        out = self.linear(features) # z = wx + b\n",
    "        out = self.sigmoid(out)\n",
    "        return out     \n",
    "    "
   ]
  },
  {
   "cell_type": "code",
   "execution_count": 3,
   "metadata": {},
   "outputs": [
    {
     "data": {
      "text/plain": [
       "tensor([[0.3966],\n",
       "        [0.4373],\n",
       "        [0.4683],\n",
       "        [0.3746],\n",
       "        [0.4039],\n",
       "        [0.4517],\n",
       "        [0.4408],\n",
       "        [0.4301],\n",
       "        [0.4349],\n",
       "        [0.4522]], grad_fn=<SigmoidBackward0>)"
      ]
     },
     "execution_count": 3,
     "metadata": {},
     "output_type": "execute_result"
    }
   ],
   "source": [
    "## Making a random dataset\n",
    "features = torch.rand(10,5)\n",
    "\n",
    "# Creating Model\n",
    "model = Model(features.shape[1]) # number of features\n",
    "\n",
    "# call model for forward pass\n",
    "model(features) # the forward method triggers automatically as soon as we call the model\n"
   ]
  },
  {
   "cell_type": "code",
   "execution_count": 4,
   "metadata": {},
   "outputs": [
    {
     "data": {
      "text/plain": [
       "Parameter containing:\n",
       "tensor([[ 0.0615, -0.2752, -0.0887,  0.4088, -0.1773]], requires_grad=True)"
      ]
     },
     "execution_count": 4,
     "metadata": {},
     "output_type": "execute_result"
    }
   ],
   "source": [
    "# showing weights\n",
    "model.linear.weight"
   ]
  },
  {
   "cell_type": "code",
   "execution_count": 5,
   "metadata": {},
   "outputs": [
    {
     "data": {
      "text/plain": [
       "Parameter containing:\n",
       "tensor([-0.3496], requires_grad=True)"
      ]
     },
     "execution_count": 5,
     "metadata": {},
     "output_type": "execute_result"
    }
   ],
   "source": [
    "model.linear.bias"
   ]
  },
  {
   "cell_type": "code",
   "execution_count": 6,
   "metadata": {},
   "outputs": [
    {
     "data": {
      "text/plain": [
       "==========================================================================================\n",
       "Layer (type:depth-idx)                   Output Shape              Param #\n",
       "==========================================================================================\n",
       "Model                                    [10, 1]                   --\n",
       "├─Linear: 1-1                            [10, 1]                   6\n",
       "├─Sigmoid: 1-2                           [10, 1]                   --\n",
       "==========================================================================================\n",
       "Total params: 6\n",
       "Trainable params: 6\n",
       "Non-trainable params: 0\n",
       "Total mult-adds (Units.MEGABYTES): 0.00\n",
       "==========================================================================================\n",
       "Input size (MB): 0.00\n",
       "Forward/backward pass size (MB): 0.00\n",
       "Params size (MB): 0.00\n",
       "Estimated Total Size (MB): 0.00\n",
       "=========================================================================================="
      ]
     },
     "execution_count": 6,
     "metadata": {},
     "output_type": "execute_result"
    }
   ],
   "source": [
    "# To visualize the whole network\n",
    "# ! pip install torchinfo\n",
    "from torchinfo import summary\n",
    "summary(model, input_size=(10,5))"
   ]
  },
  {
   "cell_type": "code",
   "execution_count": 18,
   "metadata": {},
   "outputs": [],
   "source": [
    "## Making another complex network\n",
    "# 5 inputs -> hidden layer(3 neuron) -> output layer(1)\n",
    "\n",
    "import torch\n",
    "import torch.nn as nn\n",
    "\n",
    "class Model(nn.Module):\n",
    "\n",
    "    def __init__(self,num_features):\n",
    "        # We define the neural network architecture here\n",
    "        super().__init__()\n",
    "        self.linear1 = nn.Linear(num_features,3)\n",
    "        self.relu = nn.ReLU()\n",
    "        self.linear2 = nn.Linear(3,1) # Since output from previous layer was 3. So input here is 3 and output is 1\n",
    "        self.sigmoid = nn.Sigmoid()\n",
    "\n",
    "    def forward(self,features):\n",
    "        \n",
    "        output = self.linear1(features)\n",
    "        output = self.relu(output)\n",
    "        output = self.linear2(output)\n",
    "        output = self.sigmoid(output)\n",
    "\n",
    "        return output\n",
    "        # In order to avoid passing the features from every layer in the forward process, we can use Sequential containers"
   ]
  },
  {
   "cell_type": "code",
   "execution_count": 19,
   "metadata": {},
   "outputs": [
    {
     "data": {
      "text/plain": [
       "tensor([[0.6413],\n",
       "        [0.6298],\n",
       "        [0.6207],\n",
       "        [0.6368],\n",
       "        [0.6315],\n",
       "        [0.6314],\n",
       "        [0.6530],\n",
       "        [0.6241],\n",
       "        [0.6558],\n",
       "        [0.6175]], grad_fn=<SigmoidBackward0>)"
      ]
     },
     "execution_count": 19,
     "metadata": {},
     "output_type": "execute_result"
    }
   ],
   "source": [
    "# create dataset\n",
    "features = torch.rand(10,5)\n",
    "\n",
    "model = Model(features.shape[1])\n",
    "\n",
    "model(features)"
   ]
  },
  {
   "cell_type": "code",
   "execution_count": 20,
   "metadata": {},
   "outputs": [
    {
     "data": {
      "text/plain": [
       "Parameter containing:\n",
       "tensor([[ 0.2914, -0.1678,  0.0703,  0.0012,  0.0192],\n",
       "        [ 0.1703, -0.1278,  0.0600, -0.3280, -0.0812],\n",
       "        [ 0.2959,  0.2195, -0.1318,  0.1763, -0.1337]], requires_grad=True)"
      ]
     },
     "execution_count": 20,
     "metadata": {},
     "output_type": "execute_result"
    }
   ],
   "source": [
    "model.linear1.weight\n",
    "# model.linear2.weight"
   ]
  },
  {
   "cell_type": "code",
   "execution_count": 21,
   "metadata": {},
   "outputs": [
    {
     "data": {
      "text/plain": [
       "Parameter containing:\n",
       "tensor([[ 0.3983, -0.0879, -0.1384]], requires_grad=True)"
      ]
     },
     "execution_count": 21,
     "metadata": {},
     "output_type": "execute_result"
    }
   ],
   "source": [
    "model.linear2.weight"
   ]
  },
  {
   "cell_type": "code",
   "execution_count": 11,
   "metadata": {},
   "outputs": [
    {
     "data": {
      "text/plain": [
       "==========================================================================================\n",
       "Layer (type:depth-idx)                   Output Shape              Param #\n",
       "==========================================================================================\n",
       "Model                                    [10, 1]                   --\n",
       "├─Linear: 1-1                            [10, 3]                   18\n",
       "├─ReLU: 1-2                              [10, 3]                   --\n",
       "├─Linear: 1-3                            [10, 1]                   4\n",
       "├─Sigmoid: 1-4                           [10, 1]                   --\n",
       "==========================================================================================\n",
       "Total params: 22\n",
       "Trainable params: 22\n",
       "Non-trainable params: 0\n",
       "Total mult-adds (Units.MEGABYTES): 0.00\n",
       "==========================================================================================\n",
       "Input size (MB): 0.00\n",
       "Forward/backward pass size (MB): 0.00\n",
       "Params size (MB): 0.00\n",
       "Estimated Total Size (MB): 0.00\n",
       "=========================================================================================="
      ]
     },
     "execution_count": 11,
     "metadata": {},
     "output_type": "execute_result"
    }
   ],
   "source": [
    "summary(model, input_size=(10,5))"
   ]
  },
  {
   "cell_type": "code",
   "execution_count": 12,
   "metadata": {},
   "outputs": [],
   "source": [
    "# In order to avoid passing the features from every layer in the forward pass, we can use Sequential containers\n",
    "\n",
    "import torch\n",
    "import torch.nn as nn\n",
    "\n",
    "class Model(nn.Module):\n",
    "\n",
    "    def __init__(self,num_features):\n",
    "        # We define the neural network architecture here using Sequential container \n",
    "        super().__init__()\n",
    "        self.network = nn.Sequential(\n",
    "        nn.Linear(num_features,3),\n",
    "        nn.ReLU(),\n",
    "        nn.Linear(3,1),\n",
    "        nn.Sigmoid()\n",
    "        )\n",
    "\n",
    "    def forward(self,features):\n",
    "\n",
    "        output = self.network(features)\n",
    "\n",
    "        return output\n"
   ]
  },
  {
   "cell_type": "code",
   "execution_count": 13,
   "metadata": {},
   "outputs": [
    {
     "data": {
      "text/plain": [
       "tensor([[0.4581],\n",
       "        [0.4528],\n",
       "        [0.4579],\n",
       "        [0.4554],\n",
       "        [0.4554],\n",
       "        [0.4596],\n",
       "        [0.4658],\n",
       "        [0.4534],\n",
       "        [0.4604],\n",
       "        [0.4683]], grad_fn=<SigmoidBackward0>)"
      ]
     },
     "execution_count": 13,
     "metadata": {},
     "output_type": "execute_result"
    }
   ],
   "source": [
    "features = torch.rand(10,5)\n",
    "\n",
    "model = Model(features.shape[1])\n",
    "\n",
    "model(features)"
   ]
  },
  {
   "cell_type": "markdown",
   "metadata": {},
   "source": [
    "## Using Built in loss function and optimizer"
   ]
  },
  {
   "cell_type": "code",
   "execution_count": 24,
   "metadata": {},
   "outputs": [
    {
     "data": {
      "text/plain": [
       "torch.nn.modules.loss.BCELoss"
      ]
     },
     "execution_count": 24,
     "metadata": {},
     "output_type": "execute_result"
    }
   ],
   "source": [
    "loss_function  = nn.BCELoss()\n",
    "type(loss_function)"
   ]
  },
  {
   "cell_type": "code",
   "execution_count": 26,
   "metadata": {},
   "outputs": [],
   "source": [
    "# loss = loss_function(y_pred,y_target) - we can directly call and pass predicted and target values\n",
    "\n",
    "## Incase of shape mismatch between y_pred and y_target, we can use .view function to reshape\n",
    "# loss = loss_function(y_pred,y_target.view(-1,1)) - view is more efficient then .reshape"
   ]
  },
  {
   "cell_type": "code",
   "execution_count": 27,
   "metadata": {},
   "outputs": [],
   "source": [
    "## Using built-in optimizer\n",
    "learning_rate = 0.01\n",
    "#define optimize (after creating model)\n",
    "optimizer = torch.optim.SGD(model.parameters(), lr = learning_rate)\n",
    "\n",
    "# No need to update parameters manually\n",
    "optimizer.step()\n",
    "\n",
    "# clear gradients\n",
    "optimizer.zero_grad()\n"
   ]
  },
  {
   "cell_type": "code",
   "execution_count": null,
   "metadata": {},
   "outputs": [],
   "source": [
    "print()"
   ]
  }
 ],
 "metadata": {
  "kernelspec": {
   "display_name": "base",
   "language": "python",
   "name": "python3"
  },
  "language_info": {
   "codemirror_mode": {
    "name": "ipython",
    "version": 3
   },
   "file_extension": ".py",
   "mimetype": "text/x-python",
   "name": "python",
   "nbconvert_exporter": "python",
   "pygments_lexer": "ipython3",
   "version": "3.11.7"
  }
 },
 "nbformat": 4,
 "nbformat_minor": 2
}

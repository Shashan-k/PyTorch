{
  "cells": [
    {
      "cell_type": "markdown",
      "metadata": {},
      "source": [
        "##### https://colab.research.google.com/drive/1hSg-0nBZ9kbQducw8v553gUlDQVgO3tj#scrollTo=tncWST4J9_WM"
      ]
    },
    {
      "cell_type": "code",
      "execution_count": 17,
      "metadata": {
        "colab": {
          "base_uri": "https://localhost:8080/"
        },
        "id": "r57YJFOEzmUu",
        "outputId": "063a9924-a723-40d8-c4ca-189e47024300"
      },
      "outputs": [
        {
          "name": "stdout",
          "output_type": "stream",
          "text": [
            "2.6.0+cu124\n"
          ]
        }
      ],
      "source": [
        "import torch\n",
        "print(torch.__version__)"
      ]
    },
    {
      "cell_type": "code",
      "execution_count": 18,
      "metadata": {
        "colab": {
          "base_uri": "https://localhost:8080/"
        },
        "id": "HMpac827z7ne",
        "outputId": "6f11909d-de36-441d-b2b1-2c7fc69dcae2"
      },
      "outputs": [
        {
          "name": "stdout",
          "output_type": "stream",
          "text": [
            "CUDA is available.\n",
            "Number of CUDA devices: 1\n",
            "Device name: Tesla T4\n"
          ]
        }
      ],
      "source": [
        "if torch.cuda.is_available():\n",
        "    print(\"CUDA is available.\")\n",
        "    print(\"Number of CUDA devices:\", torch.cuda.device_count())\n",
        "    print(\"Device name:\", torch.cuda.get_device_name(0))\n",
        "else:\n",
        "    print(\"CUDA is not available.\")"
      ]
    },
    {
      "cell_type": "markdown",
      "metadata": {
        "id": "1eQvCxzU0VWE"
      },
      "source": [
        "## Creating Tensor"
      ]
    },
    {
      "cell_type": "code",
      "execution_count": 19,
      "metadata": {
        "colab": {
          "base_uri": "https://localhost:8080/"
        },
        "id": "Zqs0vhmD0UjW",
        "outputId": "9fd97ca8-c8f3-4051-93d2-5ffb2e344c6d"
      },
      "outputs": [
        {
          "name": "stdout",
          "output_type": "stream",
          "text": [
            "tensor([[3.5397e-16, 4.5832e-41, 6.1115e-32],\n",
            "        [0.0000e+00, 0.0000e+00, 0.0000e+00]])\n"
          ]
        },
        {
          "data": {
            "text/plain": [
              "torch.Tensor"
            ]
          },
          "execution_count": 19,
          "metadata": {},
          "output_type": "execute_result"
        }
      ],
      "source": [
        "# using empty -> creates a memory for this size\n",
        "x = torch.empty(2,3)\n",
        "print(x)\n",
        "type(x)"
      ]
    },
    {
      "cell_type": "code",
      "execution_count": 20,
      "metadata": {
        "colab": {
          "base_uri": "https://localhost:8080/"
        },
        "id": "o4pUZNtsz_6o",
        "outputId": "ac29c058-1a66-4353-81d3-155c536f8028"
      },
      "outputs": [
        {
          "data": {
            "text/plain": [
              "tensor([[0., 0., 0.],\n",
              "        [0., 0., 0.]])"
            ]
          },
          "execution_count": 20,
          "metadata": {},
          "output_type": "execute_result"
        }
      ],
      "source": [
        "# using zeros - can be used to initialize biases\n",
        "torch.zeros(2,3)"
      ]
    },
    {
      "cell_type": "code",
      "execution_count": 21,
      "metadata": {
        "colab": {
          "base_uri": "https://localhost:8080/"
        },
        "id": "QoaqFSNI0xQD",
        "outputId": "d88ffba1-ce8e-4958-98bd-c9a051e55b5e"
      },
      "outputs": [
        {
          "data": {
            "text/plain": [
              "tensor([[1., 1., 1.],\n",
              "        [1., 1., 1.]])"
            ]
          },
          "execution_count": 21,
          "metadata": {},
          "output_type": "execute_result"
        }
      ],
      "source": [
        "# using ones\n",
        "torch.ones(2,3)"
      ]
    },
    {
      "cell_type": "code",
      "execution_count": 22,
      "metadata": {
        "colab": {
          "base_uri": "https://localhost:8080/"
        },
        "id": "T6O4gto507W6",
        "outputId": "48702527-c110-425f-8eff-642ba9529929"
      },
      "outputs": [
        {
          "data": {
            "text/plain": [
              "tensor([[0.1546, 0.3500, 0.8590],\n",
              "        [0.8866, 0.3668, 0.5939]])"
            ]
          },
          "execution_count": 22,
          "metadata": {},
          "output_type": "execute_result"
        }
      ],
      "source": [
        "# using rand - random value between 0 & 1\n",
        "torch.rand(2,3)"
      ]
    },
    {
      "cell_type": "code",
      "execution_count": 23,
      "metadata": {
        "colab": {
          "base_uri": "https://localhost:8080/"
        },
        "id": "6cBYW-Dl1AQh",
        "outputId": "22ad0993-ebf3-4069-9043-68a086991168"
      },
      "outputs": [
        {
          "data": {
            "text/plain": [
              "tensor([[0.3126, 0.3791, 0.3087],\n",
              "        [0.0736, 0.4216, 0.0691]])"
            ]
          },
          "execution_count": 23,
          "metadata": {},
          "output_type": "execute_result"
        }
      ],
      "source": [
        "# manual seed\n",
        "torch.manual_seed(1729) # will always have same rand values\n",
        "torch.rand(2,3)"
      ]
    },
    {
      "cell_type": "code",
      "execution_count": 24,
      "metadata": {
        "colab": {
          "base_uri": "https://localhost:8080/"
        },
        "id": "NyDSXeeQ1NfH",
        "outputId": "6d9b259b-3369-43e0-d612-2ad24266390f"
      },
      "outputs": [
        {
          "data": {
            "text/plain": [
              "tensor([[1, 2, 3],\n",
              "        [4, 5, 6]])"
            ]
          },
          "execution_count": 24,
          "metadata": {},
          "output_type": "execute_result"
        }
      ],
      "source": [
        "# using tensor\n",
        "torch.tensor([[1,2,3],[4,5,6]])"
      ]
    },
    {
      "cell_type": "code",
      "execution_count": 25,
      "metadata": {
        "colab": {
          "base_uri": "https://localhost:8080/"
        },
        "id": "Of5k6O5p1Wnj",
        "outputId": "6f3355ad-23c7-4ac0-bbfd-b171d4ae1e49"
      },
      "outputs": [
        {
          "name": "stdout",
          "output_type": "stream",
          "text": [
            "tensor([0, 2, 4, 6, 8])\n",
            "tensor([ 0.0000,  1.1111,  2.2222,  3.3333,  4.4444,  5.5556,  6.6667,  7.7778,\n",
            "         8.8889, 10.0000])\n",
            "tensor([[1., 0., 0., 0., 0.],\n",
            "        [0., 1., 0., 0., 0.],\n",
            "        [0., 0., 1., 0., 0.],\n",
            "        [0., 0., 0., 1., 0.],\n",
            "        [0., 0., 0., 0., 1.]])\n"
          ]
        }
      ],
      "source": [
        "# other ways\n",
        "#arange\n",
        "print(torch.arange(0,10,2))\n",
        "\n",
        "# linspace\n",
        "print(torch.linspace(0,10,10))\n",
        "\n",
        "# using eye (Identity Matrix)\n",
        "print(torch.eye(5))"
      ]
    },
    {
      "cell_type": "markdown",
      "metadata": {
        "id": "mH_4W9ydPSI-"
      },
      "source": [
        "## Tensor shape"
      ]
    },
    {
      "cell_type": "code",
      "execution_count": 26,
      "metadata": {
        "colab": {
          "base_uri": "https://localhost:8080/"
        },
        "id": "tFia56U-PUU0",
        "outputId": "d0981c1f-fed2-4911-bb8e-2171e9a90e8c"
      },
      "outputs": [
        {
          "data": {
            "text/plain": [
              "tensor([[1, 2, 3],\n",
              "        [5, 6, 7]])"
            ]
          },
          "execution_count": 26,
          "metadata": {},
          "output_type": "execute_result"
        }
      ],
      "source": [
        "x = torch.tensor([[1,2,3],[5,6,7]])\n",
        "x"
      ]
    },
    {
      "cell_type": "code",
      "execution_count": 27,
      "metadata": {
        "colab": {
          "base_uri": "https://localhost:8080/"
        },
        "id": "iOHh93CwPgxH",
        "outputId": "064d9808-046b-4cf9-c6df-c2ec13ae0ee6"
      },
      "outputs": [
        {
          "data": {
            "text/plain": [
              "torch.Size([2, 3])"
            ]
          },
          "execution_count": 27,
          "metadata": {},
          "output_type": "execute_result"
        }
      ],
      "source": [
        "x.shape"
      ]
    },
    {
      "cell_type": "code",
      "execution_count": 28,
      "metadata": {
        "colab": {
          "base_uri": "https://localhost:8080/"
        },
        "id": "7Y47_ErJPi3i",
        "outputId": "ba3ccf52-9997-47e6-ed18-c24f2007d00c"
      },
      "outputs": [
        {
          "data": {
            "text/plain": [
              "tensor([[    3078641164681456, -7487508346140878841, -9214075854466395896],\n",
              "        [   99080296783605763, -1152534472197537552,    67555506255906304]])"
            ]
          },
          "execution_count": 28,
          "metadata": {},
          "output_type": "execute_result"
        }
      ],
      "source": [
        "torch.empty_like(x)"
      ]
    },
    {
      "cell_type": "code",
      "execution_count": 29,
      "metadata": {
        "colab": {
          "base_uri": "https://localhost:8080/"
        },
        "id": "e0lLq9KLPrZm",
        "outputId": "758bcb6c-fa6a-4b45-e880-cc2221adb8af"
      },
      "outputs": [
        {
          "data": {
            "text/plain": [
              "tensor([[0, 0, 0],\n",
              "        [0, 0, 0]])"
            ]
          },
          "execution_count": 29,
          "metadata": {},
          "output_type": "execute_result"
        }
      ],
      "source": [
        "torch.zeros_like(x)"
      ]
    },
    {
      "cell_type": "code",
      "execution_count": 30,
      "metadata": {
        "colab": {
          "base_uri": "https://localhost:8080/",
          "height": 141
        },
        "id": "GCkm4c5WPzne",
        "outputId": "3a293c77-6115-4a1e-dd61-74ca35dee46f"
      },
      "outputs": [
        {
          "ename": "RuntimeError",
          "evalue": "\"check_uniform_bounds\" not implemented for 'Long'",
          "output_type": "error",
          "traceback": [
            "\u001b[0;31m---------------------------------------------------------------------------\u001b[0m",
            "\u001b[0;31mRuntimeError\u001b[0m                              Traceback (most recent call last)",
            "\u001b[0;32m<ipython-input-30-714251b4eb32>\u001b[0m in \u001b[0;36m<cell line: 0>\u001b[0;34m()\u001b[0m\n\u001b[0;32m----> 1\u001b[0;31m \u001b[0mtorch\u001b[0m\u001b[0;34m.\u001b[0m\u001b[0mrand_like\u001b[0m\u001b[0;34m(\u001b[0m\u001b[0mx\u001b[0m\u001b[0;34m)\u001b[0m \u001b[0;31m# rand generates float between 0 to 1\u001b[0m\u001b[0;34m\u001b[0m\u001b[0;34m\u001b[0m\u001b[0m\n\u001b[0m",
            "\u001b[0;31mRuntimeError\u001b[0m: \"check_uniform_bounds\" not implemented for 'Long'"
          ]
        }
      ],
      "source": [
        "torch.rand_like(x) # rand generates float between 0 to 1"
      ]
    },
    {
      "cell_type": "code",
      "execution_count": 48,
      "metadata": {
        "colab": {
          "base_uri": "https://localhost:8080/"
        },
        "id": "AFQfCuz4RvJg",
        "outputId": "8a79833c-f9f4-4dba-ea28-c24b55a62641"
      },
      "outputs": [
        {
          "data": {
            "text/plain": [
              "tensor([[0.8703, 0.6888, 0.1889],\n",
              "        [0.9039, 0.3524, 0.2360]])"
            ]
          },
          "execution_count": 48,
          "metadata": {},
          "output_type": "execute_result"
        }
      ],
      "source": [
        "torch.rand_like(x, dtype=torch.float32)"
      ]
    },
    {
      "cell_type": "markdown",
      "metadata": {
        "id": "9pfMiFhuQA9_"
      },
      "source": [
        "## Tensor Data Type"
      ]
    },
    {
      "cell_type": "code",
      "execution_count": 49,
      "metadata": {
        "colab": {
          "base_uri": "https://localhost:8080/"
        },
        "id": "2JAEQ1HMP5FT",
        "outputId": "35558991-5331-44f6-af1d-875dc96f0d63"
      },
      "outputs": [
        {
          "data": {
            "text/plain": [
              "torch.int64"
            ]
          },
          "execution_count": 49,
          "metadata": {},
          "output_type": "execute_result"
        }
      ],
      "source": [
        "x.dtype"
      ]
    },
    {
      "cell_type": "code",
      "execution_count": 50,
      "metadata": {
        "colab": {
          "base_uri": "https://localhost:8080/"
        },
        "id": "R5ZJkkOGQMBW",
        "outputId": "421a8740-b409-4ff0-f7bd-390d1e51a29a"
      },
      "outputs": [
        {
          "data": {
            "text/plain": [
              "tensor([[1, 2, 3],\n",
              "        [5, 6, 7]], dtype=torch.int32)"
            ]
          },
          "execution_count": 50,
          "metadata": {},
          "output_type": "execute_result"
        }
      ],
      "source": [
        "# assign data type\n",
        "torch.tensor([[1,2,3],[5,6.0,7.0]], dtype=torch.int)"
      ]
    },
    {
      "cell_type": "code",
      "execution_count": 51,
      "metadata": {
        "colab": {
          "base_uri": "https://localhost:8080/"
        },
        "id": "tm-N8V5JQa6f",
        "outputId": "d5ab4d19-1a87-4f18-efe8-4972773b9753"
      },
      "outputs": [
        {
          "data": {
            "text/plain": [
              "tensor([[1., 2., 3.],\n",
              "        [5., 6., 7.]], dtype=torch.float64)"
            ]
          },
          "execution_count": 51,
          "metadata": {},
          "output_type": "execute_result"
        }
      ],
      "source": [
        "torch.tensor([[1,2,3],[5,6,7]], dtype=torch.float64)"
      ]
    },
    {
      "cell_type": "code",
      "execution_count": 52,
      "metadata": {
        "id": "7qVoFb4cQkC0"
      },
      "outputs": [],
      "source": [
        "# using to()\n",
        "x = x.to(torch.float32)"
      ]
    },
    {
      "cell_type": "code",
      "execution_count": 53,
      "metadata": {
        "colab": {
          "base_uri": "https://localhost:8080/"
        },
        "id": "xKT_tU_7Q8xy",
        "outputId": "c971b454-859a-4858-b4f4-329eaf1a3564"
      },
      "outputs": [
        {
          "data": {
            "text/plain": [
              "torch.float32"
            ]
          },
          "execution_count": 53,
          "metadata": {},
          "output_type": "execute_result"
        }
      ],
      "source": [
        "x.dtype"
      ]
    },
    {
      "cell_type": "markdown",
      "metadata": {
        "id": "Et7TrrA6Recd"
      },
      "source": [
        "## Different Data types in Pytorch"
      ]
    },
    {
      "cell_type": "markdown",
      "metadata": {
        "id": "dLm25jhknmuQ"
      },
      "source": [
        "| **Data Type**             | **Dtype**         | **Description**                                                                                                                                                                |\n",
        "|---------------------------|-------------------|--------------------------------------------------------------------------------------------------------------------------------------------------------------------------------|\n",
        "| **32-bit Floating Point** | `torch.float32`   | Standard floating-point type used for most deep learning tasks. Provides a balance between precision and memory usage.                                                         |\n",
        "| **64-bit Floating Point** | `torch.float64`   | Double-precision floating point. Useful for high-precision numerical tasks but uses more memory.                                                                               |\n",
        "| **16-bit Floating Point** | `torch.float16`   | Half-precision floating point. Commonly used in mixed-precision training to reduce memory and computational overhead on modern GPUs.                                            |\n",
        "| **BFloat16**              | `torch.bfloat16`  | Brain floating-point format with reduced precision compared to `float16`. Used in mixed-precision training, especially on TPUs.                                                |\n",
        "| **8-bit Floating Point**  | `torch.float8`    | Ultra-low-precision floating point. Used for experimental applications and extreme memory-constrained environments (less common).                                               |\n",
        "| **8-bit Integer**         | `torch.int8`      | 8-bit signed integer. Used for quantized models to save memory and computation in inference.                                                                                   |\n",
        "| **16-bit Integer**        | `torch.int16`     | 16-bit signed integer. Useful for special numerical tasks requiring intermediate precision.                                                                                    |\n",
        "| **32-bit Integer**        | `torch.int32`     | Standard signed integer type. Commonly used for indexing and general-purpose numerical tasks.                                                                                  |\n",
        "| **64-bit Integer**        | `torch.int64`     | Long integer type. Often used for large indexing arrays or for tasks involving large numbers.                                                                                  |\n",
        "| **8-bit Unsigned Integer**| `torch.uint8`     | 8-bit unsigned integer. Commonly used for image data (e.g., pixel values between 0 and 255).                                                                                    |\n",
        "| **Boolean**               | `torch.bool`      | Boolean type, stores `True` or `False` values. Often used for masks in logical operations.                                                                                      |\n",
        "| **Complex 64**            | `torch.complex64` | Complex number type with 32-bit real and 32-bit imaginary parts. Used for scientific and signal processing tasks.                                                               |\n",
        "| **Complex 128**           | `torch.complex128`| Complex number type with 64-bit real and 64-bit imaginary parts. Offers higher precision but uses more memory.                                                                 |\n",
        "| **Quantized Integer**     | `torch.qint8`     | Quantized signed 8-bit integer. Used in quantized models for efficient inference.                                                                                              |\n",
        "| **Quantized Unsigned Integer** | `torch.quint8` | Quantized unsigned 8-bit integer. Often used for quantized tensors in image-related tasks.                                                                                     |\n"
      ]
    },
    {
      "cell_type": "markdown",
      "metadata": {
        "id": "5ptYVX-hR3RT"
      },
      "source": [
        "## Mathematical Operations"
      ]
    },
    {
      "cell_type": "code",
      "execution_count": 54,
      "metadata": {
        "colab": {
          "base_uri": "https://localhost:8080/"
        },
        "id": "7JmUYYY4Q-iM",
        "outputId": "7e0a8d88-e4b1-4013-ab23-6186f2323220"
      },
      "outputs": [
        {
          "data": {
            "text/plain": [
              "tensor([[0.6301, 0.9295],\n",
              "        [0.0721, 0.7458]])"
            ]
          },
          "execution_count": 54,
          "metadata": {},
          "output_type": "execute_result"
        }
      ],
      "source": [
        "## Scalar Operation\n",
        "x=torch.rand(2,2)\n",
        "x+2\n",
        "x-2\n",
        "x*2\n",
        "x/2\n",
        "(100*x) // 3\n",
        "((100*x) // 3) % 2\n",
        "x**2"
      ]
    },
    {
      "cell_type": "code",
      "execution_count": 55,
      "metadata": {
        "colab": {
          "base_uri": "https://localhost:8080/"
        },
        "id": "AxzgMJpYSVGk",
        "outputId": "53bf26ad-375c-4b6d-b707-855b6379aa28"
      },
      "outputs": [
        {
          "name": "stdout",
          "output_type": "stream",
          "text": [
            "tensor([[0.6218, 0.2521],\n",
            "        [0.2401, 0.0160]])\n",
            "tensor([[0.3254, 0.0441],\n",
            "        [0.7365, 0.5185]])\n"
          ]
        },
        {
          "data": {
            "text/plain": [
              "tensor([[1.9106, 5.7185],\n",
              "        [0.3260, 0.0309]])"
            ]
          },
          "execution_count": 55,
          "metadata": {},
          "output_type": "execute_result"
        }
      ],
      "source": [
        "## Element wise operation between two tensors\n",
        "x=torch.rand(2,2)\n",
        "y=torch.rand(2,2)\n",
        "print(x)\n",
        "print(y)\n",
        "x+y\n",
        "x-y\n",
        "x*y\n",
        "x/y"
      ]
    },
    {
      "cell_type": "code",
      "execution_count": 56,
      "metadata": {
        "colab": {
          "base_uri": "https://localhost:8080/"
        },
        "id": "IoHF5rVDSzU_",
        "outputId": "cba65cf7-504e-46da-aed1-c3bde01cf185"
      },
      "outputs": [
        {
          "name": "stdout",
          "output_type": "stream",
          "text": [
            "tensor([[0.7219, 0.4771],\n",
            "        [0.2640, 0.0832]])\n",
            "tensor([[1., 0.],\n",
            "        [0., 0.]])\n"
          ]
        }
      ],
      "source": [
        "# round\n",
        "x=torch.rand(2,2)\n",
        "print(x)\n",
        "print(x.round())"
      ]
    },
    {
      "cell_type": "code",
      "execution_count": 57,
      "metadata": {
        "colab": {
          "base_uri": "https://localhost:8080/"
        },
        "id": "3kVfmU8OS2ch",
        "outputId": "12ff63b0-ef80-4576-911b-1860e7ba1e23"
      },
      "outputs": [
        {
          "data": {
            "text/plain": [
              "tensor([[2., 2.],\n",
              "        [2., 2.]])"
            ]
          },
          "execution_count": 57,
          "metadata": {},
          "output_type": "execute_result"
        }
      ],
      "source": [
        "# ceil # floor # clamp -> to put the tensors in a particular range\n",
        "x.clamp(2, 3)"
      ]
    },
    {
      "cell_type": "markdown",
      "metadata": {
        "id": "xi8ZV_N-ZSaK"
      },
      "source": [
        "## Reduction Operation"
      ]
    },
    {
      "cell_type": "code",
      "execution_count": 58,
      "metadata": {
        "colab": {
          "base_uri": "https://localhost:8080/"
        },
        "id": "bHvpO1PwTKhQ",
        "outputId": "f465fc19-9645-425e-f15b-44246c09162e"
      },
      "outputs": [
        {
          "data": {
            "text/plain": [
              "tensor([[3., 6., 4.],\n",
              "        [8., 5., 3.]])"
            ]
          },
          "execution_count": 58,
          "metadata": {},
          "output_type": "execute_result"
        }
      ],
      "source": [
        "import torch\n",
        "e = torch.randint(size = (2,3), low = 0, high = 10,dtype=torch.float32)\n",
        "e"
      ]
    },
    {
      "cell_type": "code",
      "execution_count": 59,
      "metadata": {
        "colab": {
          "base_uri": "https://localhost:8080/"
        },
        "id": "ZGweUxTtTRmo",
        "outputId": "e522761f-a920-4d05-ffcd-f7f903d9ffb2"
      },
      "outputs": [
        {
          "data": {
            "text/plain": [
              "tensor([13., 16.])"
            ]
          },
          "execution_count": 59,
          "metadata": {},
          "output_type": "execute_result"
        }
      ],
      "source": [
        "# sum\n",
        "torch.sum(e)\n",
        "\n",
        "# sum along colums\n",
        "torch.sum(e, 0)\n",
        "\n",
        "# sum along rows\n",
        "torch.sum(e, 1)"
      ]
    },
    {
      "cell_type": "code",
      "execution_count": 60,
      "metadata": {
        "colab": {
          "base_uri": "https://localhost:8080/"
        },
        "id": "hScNllnyTR8B",
        "outputId": "9116b513-e229-4010-9180-ad2a0322f3ae"
      },
      "outputs": [
        {
          "data": {
            "text/plain": [
              "tensor([4.3333, 5.3333])"
            ]
          },
          "execution_count": 60,
          "metadata": {},
          "output_type": "execute_result"
        }
      ],
      "source": [
        "## mean\n",
        "torch.mean(e)\n",
        "## mean along columns\n",
        "torch.mean(e, 0)\n",
        "## mean along rows\n",
        "torch.mean(e, 1)"
      ]
    },
    {
      "cell_type": "code",
      "execution_count": 61,
      "metadata": {
        "colab": {
          "base_uri": "https://localhost:8080/"
        },
        "id": "O0_QDZtzasw7",
        "outputId": "e990d0a1-d653-4d17-84c6-ca23be512c32"
      },
      "outputs": [
        {
          "data": {
            "text/plain": [
              "tensor(3.)"
            ]
          },
          "execution_count": 61,
          "metadata": {},
          "output_type": "execute_result"
        }
      ],
      "source": [
        "# max and min\n",
        "torch.max(e)\n",
        "torch.min(e)"
      ]
    },
    {
      "cell_type": "code",
      "execution_count": 62,
      "metadata": {
        "colab": {
          "base_uri": "https://localhost:8080/"
        },
        "id": "W-z7gD0xatO5",
        "outputId": "f7620816-2e40-448a-c69e-9d1baf07a5d0"
      },
      "outputs": [
        {
          "data": {
            "text/plain": [
              "tensor(8640.)"
            ]
          },
          "execution_count": 62,
          "metadata": {},
          "output_type": "execute_result"
        }
      ],
      "source": [
        "# product\n",
        "torch.prod(e)"
      ]
    },
    {
      "cell_type": "code",
      "execution_count": 63,
      "metadata": {
        "colab": {
          "base_uri": "https://localhost:8080/"
        },
        "id": "JGOMgJPsatXc",
        "outputId": "c120960d-a9e8-433d-8e4d-38062a35b4fe"
      },
      "outputs": [
        {
          "data": {
            "text/plain": [
              "tensor(0)"
            ]
          },
          "execution_count": 63,
          "metadata": {},
          "output_type": "execute_result"
        }
      ],
      "source": [
        "# standard deviation\n",
        "torch.std(e)\n",
        "\n",
        "# variance\n",
        "torch.var(e)\n",
        "\n",
        "# argmax - Give the postion of the maximum number in the tensor\n",
        "torch.argmax(e)\n",
        "\n",
        "# argmin - Give the position of the minimum number in the tensor\n",
        "torch.argmin(e)"
      ]
    },
    {
      "cell_type": "markdown",
      "metadata": {
        "id": "Q0g0ar-Sc4wY"
      },
      "source": [
        "## Matrix Operation"
      ]
    },
    {
      "cell_type": "code",
      "execution_count": 64,
      "metadata": {
        "colab": {
          "base_uri": "https://localhost:8080/"
        },
        "id": "Sxd44d48ate-",
        "outputId": "b91868c7-7b40-42dd-b85c-9b023c9534dc"
      },
      "outputs": [
        {
          "name": "stdout",
          "output_type": "stream",
          "text": [
            "tensor([[3., 5., 6.],\n",
            "        [6., 3., 9.]])\n",
            "tensor([[3., 5.],\n",
            "        [4., 2.],\n",
            "        [0., 8.]])\n"
          ]
        }
      ],
      "source": [
        "a = torch.randint(size = (2,3), low = 0, high = 10,dtype=torch.float32)\n",
        "b = torch.randint(size = (3,2), low = 0, high = 10,dtype=torch.float32)\n",
        "print(a)\n",
        "print(b)"
      ]
    },
    {
      "cell_type": "code",
      "execution_count": 65,
      "metadata": {
        "colab": {
          "base_uri": "https://localhost:8080/"
        },
        "id": "iTK3BqEaatnJ",
        "outputId": "89325b01-facb-4739-8490-835eff9ce7ee"
      },
      "outputs": [
        {
          "data": {
            "text/plain": [
              "tensor([[ 29.,  73.],\n",
              "        [ 30., 108.]])"
            ]
          },
          "execution_count": 65,
          "metadata": {},
          "output_type": "execute_result"
        }
      ],
      "source": [
        "# matrix multiplication\n",
        "torch.matmul(a,b)"
      ]
    },
    {
      "cell_type": "code",
      "execution_count": 66,
      "metadata": {
        "colab": {
          "base_uri": "https://localhost:8080/"
        },
        "id": "g1nignCJTSDC",
        "outputId": "f146f43e-7e26-4196-fdb4-2becb34f4716"
      },
      "outputs": [
        {
          "name": "stdout",
          "output_type": "stream",
          "text": [
            "tensor([0.6341, 0.8873, 0.5026])\n",
            "tensor([0.0250, 0.4842, 0.8439])\n"
          ]
        },
        {
          "data": {
            "text/plain": [
              "tensor(0.8696)"
            ]
          },
          "execution_count": 66,
          "metadata": {},
          "output_type": "execute_result"
        }
      ],
      "source": [
        "# dot product\n",
        "vector1 = torch.rand(3)\n",
        "vector2 = torch.rand(3)\n",
        "print(vector1)\n",
        "print(vector2)\n",
        "torch.dot(vector1, vector2)"
      ]
    },
    {
      "cell_type": "code",
      "execution_count": 67,
      "metadata": {
        "colab": {
          "base_uri": "https://localhost:8080/"
        },
        "id": "X_eC9rjjTSKU",
        "outputId": "334ac0b1-36f7-47b4-b1ab-22503e45f718"
      },
      "outputs": [
        {
          "data": {
            "text/plain": [
              "tensor([[3., 6.],\n",
              "        [5., 3.],\n",
              "        [6., 9.]])"
            ]
          },
          "execution_count": 67,
          "metadata": {},
          "output_type": "execute_result"
        }
      ],
      "source": [
        "# transpose\n",
        "torch.transpose(a, 0, 1)"
      ]
    },
    {
      "cell_type": "code",
      "execution_count": 68,
      "metadata": {
        "colab": {
          "base_uri": "https://localhost:8080/"
        },
        "id": "YNRKq1C_TSQ1",
        "outputId": "368470e6-b600-4484-e9ef-84bdb4297032"
      },
      "outputs": [
        {
          "name": "stdout",
          "output_type": "stream",
          "text": [
            "tensor([[7., 5., 4.],\n",
            "        [3., 8., 8.],\n",
            "        [0., 8., 5.]])\n"
          ]
        },
        {
          "data": {
            "text/plain": [
              "tensor(-147.)"
            ]
          },
          "execution_count": 68,
          "metadata": {},
          "output_type": "execute_result"
        }
      ],
      "source": [
        "# determinant\n",
        "p = torch.randint(size = (3,3), low = 0, high = 10,dtype=torch.float32)\n",
        "print(p)\n",
        "torch.det(p)"
      ]
    },
    {
      "cell_type": "code",
      "execution_count": 69,
      "metadata": {
        "colab": {
          "base_uri": "https://localhost:8080/"
        },
        "id": "HjVdpYhtfvvN",
        "outputId": "26e84f56-cf8a-4648-c5a5-b31a0ba6e407"
      },
      "outputs": [
        {
          "data": {
            "text/plain": [
              "tensor([[ 0.1633, -0.0476, -0.0544],\n",
              "        [ 0.1020, -0.2381,  0.2993],\n",
              "        [-0.1633,  0.3810, -0.2789]])"
            ]
          },
          "execution_count": 69,
          "metadata": {},
          "output_type": "execute_result"
        }
      ],
      "source": [
        "# inverse\n",
        "torch.inverse(p)"
      ]
    },
    {
      "cell_type": "markdown",
      "metadata": {
        "id": "WTBKoDLQqj1h"
      },
      "source": [
        "## Comparison Operators\n",
        "- Comparing 2 matrices\n"
      ]
    },
    {
      "cell_type": "code",
      "execution_count": 70,
      "metadata": {
        "colab": {
          "base_uri": "https://localhost:8080/"
        },
        "id": "du84LlKIfv2e",
        "outputId": "ee1f9f08-ed0b-4a16-f033-c31813373f3a"
      },
      "outputs": [
        {
          "name": "stdout",
          "output_type": "stream",
          "text": [
            "tensor([[5., 0., 2.],\n",
            "        [1., 9., 3.]])\n",
            "tensor([[0., 3., 3.],\n",
            "        [6., 3., 4.]])\n"
          ]
        }
      ],
      "source": [
        "import torch\n",
        "x = torch.randint(size = (2,3), low = 0, high = 10,dtype=torch.float32)\n",
        "y = torch.randint(size = (2,3), low = 0, high = 10,dtype=torch.float32)\n",
        "print(x)\n",
        "print(y)"
      ]
    },
    {
      "cell_type": "code",
      "execution_count": 71,
      "metadata": {
        "colab": {
          "base_uri": "https://localhost:8080/"
        },
        "id": "UfhNRhWN1tVe",
        "outputId": "560a7135-d2db-4175-ce14-cbbb844a097b"
      },
      "outputs": [
        {
          "data": {
            "text/plain": [
              "tensor([[True, True, True],\n",
              "        [True, True, True]])"
            ]
          },
          "execution_count": 71,
          "metadata": {},
          "output_type": "execute_result"
        }
      ],
      "source": [
        "# greater than\n",
        "x>y\n",
        "x<y\n",
        "x == y\n",
        "x != y\n"
      ]
    },
    {
      "cell_type": "markdown",
      "metadata": {
        "id": "ew7GD3wP2Td9"
      },
      "source": [
        "## Special Functions"
      ]
    },
    {
      "cell_type": "code",
      "execution_count": 72,
      "metadata": {
        "colab": {
          "base_uri": "https://localhost:8080/"
        },
        "id": "42fxKz2U1tmR",
        "outputId": "fbd9207b-de0c-4b12-a5ef-5dcbfc34e3fb"
      },
      "outputs": [
        {
          "name": "stdout",
          "output_type": "stream",
          "text": [
            "tensor([[5., 4., 0.],\n",
            "        [4., 9., 0.]])\n"
          ]
        }
      ],
      "source": [
        "z = torch.randint(size= (2,3), low = 0, high = 10, dtype=torch.float32)\n",
        "print(z)"
      ]
    },
    {
      "cell_type": "code",
      "execution_count": 73,
      "metadata": {
        "colab": {
          "base_uri": "https://localhost:8080/"
        },
        "id": "-75pot5h1t0F",
        "outputId": "94e8a0c4-eadc-416a-f692-9ac25a21b4e3"
      },
      "outputs": [
        {
          "data": {
            "text/plain": [
              "tensor([[1.6094, 1.3863,   -inf],\n",
              "        [1.3863, 2.1972,   -inf]])"
            ]
          },
          "execution_count": 73,
          "metadata": {},
          "output_type": "execute_result"
        }
      ],
      "source": [
        "# log\n",
        "torch.log(z)"
      ]
    },
    {
      "cell_type": "code",
      "execution_count": 74,
      "metadata": {
        "colab": {
          "base_uri": "https://localhost:8080/"
        },
        "id": "m0FdyUJi1t8T",
        "outputId": "9e8ba1ed-66a9-46cc-d631-e537b5324d7b"
      },
      "outputs": [
        {
          "data": {
            "text/plain": [
              "tensor([[1.4841e+02, 5.4598e+01, 1.0000e+00],\n",
              "        [5.4598e+01, 8.1031e+03, 1.0000e+00]])"
            ]
          },
          "execution_count": 74,
          "metadata": {},
          "output_type": "execute_result"
        }
      ],
      "source": [
        "# exp\n",
        "torch.exp(z)"
      ]
    },
    {
      "cell_type": "code",
      "execution_count": 75,
      "metadata": {
        "colab": {
          "base_uri": "https://localhost:8080/"
        },
        "id": "xr8Nikjr1uDv",
        "outputId": "692ee943-dfb2-46e6-def6-46e7cc501622"
      },
      "outputs": [
        {
          "data": {
            "text/plain": [
              "tensor([[2.2361, 2.0000, 0.0000],\n",
              "        [2.0000, 3.0000, 0.0000]])"
            ]
          },
          "execution_count": 75,
          "metadata": {},
          "output_type": "execute_result"
        }
      ],
      "source": [
        "# sqrt\n",
        "torch.sqrt(z)"
      ]
    },
    {
      "cell_type": "code",
      "execution_count": 76,
      "metadata": {
        "colab": {
          "base_uri": "https://localhost:8080/"
        },
        "id": "fz3EGisK1uK4",
        "outputId": "26278dbb-85a0-43b9-8899-7243f8c374ce"
      },
      "outputs": [
        {
          "data": {
            "text/plain": [
              "tensor([[0.9933, 0.9820, 0.5000],\n",
              "        [0.9820, 0.9999, 0.5000]])"
            ]
          },
          "execution_count": 76,
          "metadata": {},
          "output_type": "execute_result"
        }
      ],
      "source": [
        "# sigmoid\n",
        "torch.sigmoid(z)"
      ]
    },
    {
      "cell_type": "code",
      "execution_count": 77,
      "metadata": {
        "colab": {
          "base_uri": "https://localhost:8080/"
        },
        "id": "Zvz99EIv1uRJ",
        "outputId": "ffdd6725-b9ab-45f0-9911-636679530bc0"
      },
      "outputs": [
        {
          "data": {
            "text/plain": [
              "tensor([[0.7311, 0.0067, 0.5000],\n",
              "        [0.2689, 0.9933, 0.5000]])"
            ]
          },
          "execution_count": 77,
          "metadata": {},
          "output_type": "execute_result"
        }
      ],
      "source": [
        "# softmax - softmax expects the data to be in float\n",
        "torch.softmax(z, dim=0)"
      ]
    },
    {
      "cell_type": "code",
      "execution_count": 78,
      "metadata": {
        "colab": {
          "base_uri": "https://localhost:8080/"
        },
        "id": "wpEnRMSd1uXt",
        "outputId": "a1fe8d41-7f0d-40ca-c217-40b34594a192"
      },
      "outputs": [
        {
          "data": {
            "text/plain": [
              "tensor([[5., 4., 0.],\n",
              "        [4., 9., 0.]])"
            ]
          },
          "execution_count": 78,
          "metadata": {},
          "output_type": "execute_result"
        }
      ],
      "source": [
        "# relu (-ve value to 0 , rest as it is)\n",
        "torch.relu(z)"
      ]
    },
    {
      "cell_type": "markdown",
      "metadata": {
        "id": "lLIlNScv7-ZQ"
      },
      "source": [
        "## Inplace Operators"
      ]
    },
    {
      "cell_type": "code",
      "execution_count": 79,
      "metadata": {
        "colab": {
          "base_uri": "https://localhost:8080/"
        },
        "id": "p8ulO9Xqfv9n",
        "outputId": "cd73ebff-aacf-4ff8-bb62-67988d955f92"
      },
      "outputs": [
        {
          "name": "stdout",
          "output_type": "stream",
          "text": [
            "tensor([[0.3902, 0.2752, 0.7893],\n",
            "        [0.0590, 0.7548, 0.0293]])\n",
            "tensor([[0.2749, 0.3410, 0.9311],\n",
            "        [0.7347, 0.9818, 0.0898]])\n"
          ]
        }
      ],
      "source": [
        "import torch\n",
        "m = torch.rand(2,3)\n",
        "n = torch.rand(2,3)\n",
        "\n",
        "print(m)\n",
        "print(n)"
      ]
    },
    {
      "cell_type": "code",
      "execution_count": 80,
      "metadata": {
        "colab": {
          "base_uri": "https://localhost:8080/"
        },
        "id": "mx6RQE_ZfwEs",
        "outputId": "3aed4abb-a030-4288-b2ba-48a0c40e0e52"
      },
      "outputs": [
        {
          "data": {
            "text/plain": [
              "tensor([[0.6651, 0.6162, 1.7204],\n",
              "        [0.7937, 1.7366, 0.1191]])"
            ]
          },
          "execution_count": 80,
          "metadata": {},
          "output_type": "execute_result"
        }
      ],
      "source": [
        "m+n # will allocate memory to save this result but storing large tensors will be a problem"
      ]
    },
    {
      "cell_type": "code",
      "execution_count": 81,
      "metadata": {
        "colab": {
          "base_uri": "https://localhost:8080/"
        },
        "id": "jWvo4GnLfwLq",
        "outputId": "985f37f4-ec09-4f98-cead-154e25e9be06"
      },
      "outputs": [
        {
          "data": {
            "text/plain": [
              "tensor([[0.6651, 0.6162, 1.7204],\n",
              "        [0.7937, 1.7366, 0.1191]])"
            ]
          },
          "execution_count": 81,
          "metadata": {},
          "output_type": "execute_result"
        }
      ],
      "source": [
        "m.add_(n) # to make the permanent changes in the tensor instead of storing in a seperate memory"
      ]
    },
    {
      "cell_type": "code",
      "execution_count": 82,
      "metadata": {
        "colab": {
          "base_uri": "https://localhost:8080/"
        },
        "id": "NGbPexN98SBT",
        "outputId": "8d454173-5575-449b-e1c9-60e7d0cc7f1f"
      },
      "outputs": [
        {
          "data": {
            "text/plain": [
              "tensor([[0.6651, 0.6162, 1.7204],\n",
              "        [0.7937, 1.7366, 0.1191]])"
            ]
          },
          "execution_count": 82,
          "metadata": {},
          "output_type": "execute_result"
        }
      ],
      "source": [
        "m"
      ]
    },
    {
      "cell_type": "code",
      "execution_count": 83,
      "metadata": {
        "colab": {
          "base_uri": "https://localhost:8080/"
        },
        "id": "_8_pTavi8SIl",
        "outputId": "7deb658d-8ba4-4366-85d5-d47eee3559cc"
      },
      "outputs": [
        {
          "data": {
            "text/plain": [
              "tensor([[0.2749, 0.3410, 0.9311],\n",
              "        [0.7347, 0.9818, 0.0898]])"
            ]
          },
          "execution_count": 83,
          "metadata": {},
          "output_type": "execute_result"
        }
      ],
      "source": [
        "n.relu_()"
      ]
    },
    {
      "cell_type": "code",
      "execution_count": 84,
      "metadata": {
        "colab": {
          "base_uri": "https://localhost:8080/"
        },
        "id": "BHEqeKlY8SO1",
        "outputId": "f8477439-7186-4527-aeb6-8ebcd7092cbf"
      },
      "outputs": [
        {
          "data": {
            "text/plain": [
              "tensor([[0.2749, 0.3410, 0.9311],\n",
              "        [0.7347, 0.9818, 0.0898]])"
            ]
          },
          "execution_count": 84,
          "metadata": {},
          "output_type": "execute_result"
        }
      ],
      "source": [
        "n"
      ]
    },
    {
      "cell_type": "markdown",
      "metadata": {
        "id": "pxc2TfWmy8aW"
      },
      "source": [
        "## Copying a Tensor"
      ]
    },
    {
      "cell_type": "code",
      "execution_count": 85,
      "metadata": {
        "colab": {
          "base_uri": "https://localhost:8080/"
        },
        "id": "r90mDKzB8SUt",
        "outputId": "bd14e441-190e-4924-d93d-ecab6a992671"
      },
      "outputs": [
        {
          "data": {
            "text/plain": [
              "tensor([[0.0841, 0.8782, 0.6802],\n",
              "        [0.0988, 0.9399, 0.4570]])"
            ]
          },
          "execution_count": 85,
          "metadata": {},
          "output_type": "execute_result"
        }
      ],
      "source": [
        "a = torch.rand(2,3)\n",
        "a"
      ]
    },
    {
      "cell_type": "code",
      "execution_count": 86,
      "metadata": {
        "colab": {
          "base_uri": "https://localhost:8080/"
        },
        "id": "h-OatBnV8Sa4",
        "outputId": "8fee0552-a93c-4038-bbd8-f819b75c0637"
      },
      "outputs": [
        {
          "data": {
            "text/plain": [
              "tensor([[0.0841, 0.8782, 0.6802],\n",
              "        [0.0988, 0.9399, 0.4570]])"
            ]
          },
          "execution_count": 86,
          "metadata": {},
          "output_type": "execute_result"
        }
      ],
      "source": [
        "b = a\n",
        "b"
      ]
    },
    {
      "cell_type": "code",
      "execution_count": 87,
      "metadata": {
        "colab": {
          "base_uri": "https://localhost:8080/"
        },
        "id": "HN41tSMyzES_",
        "outputId": "c178840c-721a-412a-c881-b7ac52c5daea"
      },
      "outputs": [
        {
          "data": {
            "text/plain": [
              "tensor([[0.0000, 0.8782, 0.6802],\n",
              "        [0.0988, 0.9399, 0.4570]])"
            ]
          },
          "execution_count": 87,
          "metadata": {},
          "output_type": "execute_result"
        }
      ],
      "source": [
        "a[0][0] = 0\n",
        "a"
      ]
    },
    {
      "cell_type": "code",
      "execution_count": 88,
      "metadata": {
        "colab": {
          "base_uri": "https://localhost:8080/"
        },
        "id": "79dDNCTWzP5O",
        "outputId": "1841cb5c-55d6-423f-d662-76c39aad8331"
      },
      "outputs": [
        {
          "data": {
            "text/plain": [
              "tensor([[0.0000, 0.8782, 0.6802],\n",
              "        [0.0988, 0.9399, 0.4570]])"
            ]
          },
          "execution_count": 88,
          "metadata": {},
          "output_type": "execute_result"
        }
      ],
      "source": [
        "b # The changes done in a is reflected in b which is not desirable in some cases"
      ]
    },
    {
      "cell_type": "code",
      "execution_count": 89,
      "metadata": {
        "colab": {
          "base_uri": "https://localhost:8080/"
        },
        "id": "zidIIi7VzQa-",
        "outputId": "f905ba22-d38f-419c-99fc-35e770ba96a3"
      },
      "outputs": [
        {
          "name": "stdout",
          "output_type": "stream",
          "text": [
            "140469953195056\n",
            "140469953195056\n"
          ]
        }
      ],
      "source": [
        "print(id(a))\n",
        "print(id(b))"
      ]
    },
    {
      "cell_type": "code",
      "execution_count": 90,
      "metadata": {
        "colab": {
          "base_uri": "https://localhost:8080/"
        },
        "id": "iFFNo56MzjaC",
        "outputId": "bbc0b83c-58cf-4c28-9928-1d2cec5ba897"
      },
      "outputs": [
        {
          "data": {
            "text/plain": [
              "tensor([[0.0000, 0.8782, 0.6802],\n",
              "        [0.0988, 0.9399, 0.4570]])"
            ]
          },
          "execution_count": 90,
          "metadata": {},
          "output_type": "execute_result"
        }
      ],
      "source": [
        "# instead of using assignment operator we should use clone function\n",
        "b = a.clone()\n",
        "b"
      ]
    },
    {
      "cell_type": "code",
      "execution_count": 91,
      "metadata": {
        "colab": {
          "base_uri": "https://localhost:8080/"
        },
        "id": "yrymrAq_zkYt",
        "outputId": "3590f306-5ad9-42ca-8e1e-b18c49d91ac8"
      },
      "outputs": [
        {
          "data": {
            "text/plain": [
              "tensor([[10.0000,  0.8782,  0.6802],\n",
              "        [ 0.0988,  0.9399,  0.4570]])"
            ]
          },
          "execution_count": 91,
          "metadata": {},
          "output_type": "execute_result"
        }
      ],
      "source": [
        "a[0][0] = 10\n",
        "a"
      ]
    },
    {
      "cell_type": "code",
      "execution_count": 92,
      "metadata": {
        "colab": {
          "base_uri": "https://localhost:8080/"
        },
        "id": "KarW0F4rz2jU",
        "outputId": "c1777855-615e-427c-e0f9-4073697ecae6"
      },
      "outputs": [
        {
          "data": {
            "text/plain": [
              "tensor([[0.0000, 0.8782, 0.6802],\n",
              "        [0.0988, 0.9399, 0.4570]])"
            ]
          },
          "execution_count": 92,
          "metadata": {},
          "output_type": "execute_result"
        }
      ],
      "source": [
        "b"
      ]
    },
    {
      "cell_type": "markdown",
      "metadata": {
        "id": "raABIN6N0AJ3"
      },
      "source": [
        "## Tensor Operation on GPU"
      ]
    },
    {
      "cell_type": "code",
      "execution_count": 93,
      "metadata": {
        "colab": {
          "base_uri": "https://localhost:8080/"
        },
        "id": "sdGLsZnsz3Yq",
        "outputId": "a6b807e6-d54e-4d0f-969b-7b084d42aee9"
      },
      "outputs": [
        {
          "data": {
            "text/plain": [
              "True"
            ]
          },
          "execution_count": 93,
          "metadata": {},
          "output_type": "execute_result"
        }
      ],
      "source": [
        "import torch\n",
        "torch.cuda.is_available()"
      ]
    },
    {
      "cell_type": "code",
      "execution_count": 94,
      "metadata": {
        "id": "otSZmpNU0H8E"
      },
      "outputs": [],
      "source": [
        "device = torch.device(\"cuda\")"
      ]
    },
    {
      "cell_type": "code",
      "execution_count": 95,
      "metadata": {
        "colab": {
          "base_uri": "https://localhost:8080/"
        },
        "id": "7uHyLN6o0N4x",
        "outputId": "b741c100-bd5e-4863-8f30-607df42c2b5a"
      },
      "outputs": [
        {
          "data": {
            "text/plain": [
              "tensor([[0.0024, 0.6778, 0.2441],\n",
              "        [0.6812, 0.9678, 0.6866]], device='cuda:0')"
            ]
          },
          "execution_count": 95,
          "metadata": {},
          "output_type": "execute_result"
        }
      ],
      "source": [
        "# creating a new tensor on GPU\n",
        "torch.rand((2,3),device=device)"
      ]
    },
    {
      "cell_type": "markdown",
      "metadata": {
        "id": "EcomuULP1ALc"
      },
      "source": [
        "## Comparing CPU and GPU performance difference"
      ]
    },
    {
      "cell_type": "code",
      "execution_count": 96,
      "metadata": {
        "colab": {
          "base_uri": "https://localhost:8080/"
        },
        "id": "aAdpLDWE0byw",
        "outputId": "2957f446-da6d-4db4-a302-7d651ffc3444"
      },
      "outputs": [
        {
          "name": "stdout",
          "output_type": "stream",
          "text": [
            "Time on CPU: 18.846004962921143\n",
            "Time on GPU: 0.000255584716796875\n"
          ]
        }
      ],
      "source": [
        "import torch\n",
        "import time\n",
        "size = 10000\n",
        "\n",
        "# In CPU\n",
        "mat1 = torch.randn(size,size)\n",
        "mat2 = torch.randn(size,size)\n",
        "\n",
        "# Measuring time\n",
        "start_time = time.time()\n",
        "result = torch.matmul(mat1,mat2)\n",
        "\n",
        "cpu_time = time.time() - start_time\n",
        "print(\"Time on CPU:\",cpu_time)\n",
        "\n",
        "# Moving the metrics to GPU\n",
        "mat1_gpu = mat1.to('cuda')\n",
        "mat2_gpu = mat2.to('cuda')\n",
        "\n",
        "# Measuring time\n",
        "start_time = time.time()\n",
        "result = torch.matmul(mat1_gpu,mat2_gpu)\n",
        "\n",
        "gpu_time = time.time() - start_time\n",
        "print(\"Time on GPU:\",gpu_time)\n"
      ]
    },
    {
      "cell_type": "markdown",
      "metadata": {
        "id": "xRrMuwfZ97i0"
      },
      "source": [
        "## Reshaping Tensors"
      ]
    },
    {
      "cell_type": "code",
      "execution_count": 97,
      "metadata": {
        "colab": {
          "base_uri": "https://localhost:8080/"
        },
        "id": "Zp4sfO2m87Aa",
        "outputId": "23032e8d-221a-48f1-e52d-4fd1055dd8da"
      },
      "outputs": [
        {
          "data": {
            "text/plain": [
              "tensor([[1., 1., 1., 1.],\n",
              "        [1., 1., 1., 1.],\n",
              "        [1., 1., 1., 1.],\n",
              "        [1., 1., 1., 1.]])"
            ]
          },
          "execution_count": 97,
          "metadata": {},
          "output_type": "execute_result"
        }
      ],
      "source": [
        "a = torch.ones(4,4)\n",
        "a"
      ]
    },
    {
      "cell_type": "code",
      "execution_count": 98,
      "metadata": {
        "colab": {
          "base_uri": "https://localhost:8080/"
        },
        "id": "WiQWdnvL9_Fw",
        "outputId": "ba05fd5e-745c-4746-cb9c-2995e5d00a7f"
      },
      "outputs": [
        {
          "data": {
            "text/plain": [
              "tensor([[[[1., 1.],\n",
              "          [1., 1.]],\n",
              "\n",
              "         [[1., 1.],\n",
              "          [1., 1.]]],\n",
              "\n",
              "\n",
              "        [[[1., 1.],\n",
              "          [1., 1.]],\n",
              "\n",
              "         [[1., 1.],\n",
              "          [1., 1.]]]])"
            ]
          },
          "execution_count": 98,
          "metadata": {},
          "output_type": "execute_result"
        }
      ],
      "source": [
        "# reshape - To reshape the product of original tensor must be same as the reshaped tensor\n",
        "a.reshape(2,2,2,2)"
      ]
    },
    {
      "cell_type": "code",
      "execution_count": 99,
      "metadata": {
        "colab": {
          "base_uri": "https://localhost:8080/"
        },
        "id": "ubgCud8v9_O1",
        "outputId": "68a6c0d1-59f2-4ac3-c926-7d76d7db0277"
      },
      "outputs": [
        {
          "data": {
            "text/plain": [
              "tensor([1., 1., 1., 1., 1., 1., 1., 1., 1., 1., 1., 1., 1., 1., 1., 1.])"
            ]
          },
          "execution_count": 99,
          "metadata": {},
          "output_type": "execute_result"
        }
      ],
      "source": [
        "# flatten - to make everything in one dimension\n",
        "a.flatten()\n"
      ]
    },
    {
      "cell_type": "code",
      "execution_count": 100,
      "metadata": {
        "colab": {
          "base_uri": "https://localhost:8080/"
        },
        "id": "tncWST4J9_WM",
        "outputId": "eb68a9f7-0b47-4c21-f45f-afdba6b02d1c"
      },
      "outputs": [
        {
          "data": {
            "text/plain": [
              "tensor([[[0.9502, 0.8672, 0.1327, 0.8549],\n",
              "         [0.6770, 0.5256, 0.7988, 0.3025],\n",
              "         [0.8994, 0.6601, 0.3722, 0.8262]],\n",
              "\n",
              "        [[0.9326, 0.0828, 0.4096, 0.0072],\n",
              "         [0.7757, 0.9349, 0.6352, 0.9472],\n",
              "         [0.3727, 0.8973, 0.3909, 0.0313]]])"
            ]
          },
          "execution_count": 100,
          "metadata": {},
          "output_type": "execute_result"
        }
      ],
      "source": [
        "# permute\n",
        "b = torch.rand(2,3,4)\n",
        "b"
      ]
    },
    {
      "cell_type": "code",
      "execution_count": 101,
      "metadata": {
        "colab": {
          "base_uri": "https://localhost:8080/"
        },
        "id": "9kM82xzf9_dB",
        "outputId": "12d773b0-50c9-4f3a-ad02-ef6610dd923e"
      },
      "outputs": [
        {
          "data": {
            "text/plain": [
              "tensor([[[0.9502, 0.6770, 0.8994],\n",
              "         [0.9326, 0.7757, 0.3727]],\n",
              "\n",
              "        [[0.8672, 0.5256, 0.6601],\n",
              "         [0.0828, 0.9349, 0.8973]],\n",
              "\n",
              "        [[0.1327, 0.7988, 0.3722],\n",
              "         [0.4096, 0.6352, 0.3909]],\n",
              "\n",
              "        [[0.8549, 0.3025, 0.8262],\n",
              "         [0.0072, 0.9472, 0.0313]]])"
            ]
          },
          "execution_count": 101,
          "metadata": {},
          "output_type": "execute_result"
        }
      ],
      "source": [
        "b.permute(2,0,1)"
      ]
    },
    {
      "cell_type": "code",
      "execution_count": 102,
      "metadata": {
        "colab": {
          "base_uri": "https://localhost:8080/"
        },
        "id": "PWcnosYw-4U9",
        "outputId": "7f257495-534c-4663-82a0-bbb997f9c2d9"
      },
      "outputs": [
        {
          "data": {
            "text/plain": [
              "torch.Size([4, 2, 3])"
            ]
          },
          "execution_count": 102,
          "metadata": {},
          "output_type": "execute_result"
        }
      ],
      "source": [
        "b.permute(2,0,1).shape"
      ]
    },
    {
      "cell_type": "code",
      "execution_count": 103,
      "metadata": {
        "colab": {
          "base_uri": "https://localhost:8080/"
        },
        "id": "ha3c55NL-70A",
        "outputId": "189badda-cf30-4c3a-c7ca-61c6756ef89b"
      },
      "outputs": [
        {
          "data": {
            "text/plain": [
              "torch.Size([1, 226, 226, 3])"
            ]
          },
          "execution_count": 103,
          "metadata": {},
          "output_type": "execute_result"
        }
      ],
      "source": [
        "# unsqueeze - To change the dimension to batches to insert in model\n",
        "c = torch.rand(226,226,3) # image size\n",
        "c.unsqueeze(0).shape"
      ]
    },
    {
      "cell_type": "code",
      "execution_count": 104,
      "metadata": {
        "colab": {
          "base_uri": "https://localhost:8080/"
        },
        "id": "EmeJzl1Q_MAa",
        "outputId": "75428c27-178e-485d-b7e5-b5e2ee248f3f"
      },
      "outputs": [
        {
          "data": {
            "text/plain": [
              "torch.Size([226, 1, 226, 3])"
            ]
          },
          "execution_count": 104,
          "metadata": {},
          "output_type": "execute_result"
        }
      ],
      "source": [
        "c.unsqueeze(1).shape"
      ]
    },
    {
      "cell_type": "code",
      "execution_count": 105,
      "metadata": {
        "colab": {
          "base_uri": "https://localhost:8080/"
        },
        "id": "Ph73z1a8_NrM",
        "outputId": "02b62243-1a5e-4e9a-d7df-05e7f4f0adb6"
      },
      "outputs": [
        {
          "data": {
            "text/plain": [
              "torch.Size([226, 226, 1, 3])"
            ]
          },
          "execution_count": 105,
          "metadata": {},
          "output_type": "execute_result"
        }
      ],
      "source": [
        "c.unsqueeze(2).shape"
      ]
    },
    {
      "cell_type": "code",
      "execution_count": 107,
      "metadata": {
        "colab": {
          "base_uri": "https://localhost:8080/"
        },
        "id": "a4F22Fwm_PSh",
        "outputId": "e23f71f1-8c33-4836-dd4d-206abd0a03dc"
      },
      "outputs": [
        {
          "data": {
            "text/plain": [
              "torch.Size([20])"
            ]
          },
          "execution_count": 107,
          "metadata": {},
          "output_type": "execute_result"
        }
      ],
      "source": [
        "# Squeeze - to reduce the dimension\n",
        "p = torch.rand(1,20)\n",
        "p.squeeze().shape"
      ]
    },
    {
      "cell_type": "markdown",
      "metadata": {
        "id": "fJ9xwksk_tkA"
      },
      "source": [
        "## NumPy and PyTorch"
      ]
    },
    {
      "cell_type": "code",
      "execution_count": 108,
      "metadata": {
        "id": "qW7Navml_wDL"
      },
      "outputs": [],
      "source": [
        "import numpy as np"
      ]
    },
    {
      "cell_type": "code",
      "execution_count": 110,
      "metadata": {
        "colab": {
          "base_uri": "https://localhost:8080/"
        },
        "id": "i6mPmgqE_7BT",
        "outputId": "11fd62f7-64a9-44ab-916d-f5d94c210e81"
      },
      "outputs": [
        {
          "data": {
            "text/plain": [
              "numpy.ndarray"
            ]
          },
          "execution_count": 110,
          "metadata": {},
          "output_type": "execute_result"
        }
      ],
      "source": [
        "aa = torch.tensor([1,2,3])\n",
        "# To convert to numpy array\n",
        "b = aa.numpy()\n",
        "type(b)"
      ]
    },
    {
      "cell_type": "code",
      "execution_count": 111,
      "metadata": {
        "colab": {
          "base_uri": "https://localhost:8080/"
        },
        "id": "xndAohbuAE4S",
        "outputId": "e29f5904-01f4-4123-e4d4-51bd8548c659"
      },
      "outputs": [
        {
          "data": {
            "text/plain": [
              "torch.Tensor"
            ]
          },
          "execution_count": 111,
          "metadata": {},
          "output_type": "execute_result"
        }
      ],
      "source": [
        "dd = np.array([1,2,3])\n",
        "# To convert to torch tensor\n",
        "cc = torch.from_numpy(dd)\n",
        "type(cc)"
      ]
    },
    {
      "cell_type": "code",
      "execution_count": null,
      "metadata": {
        "id": "mH0PjTmoAQnx"
      },
      "outputs": [],
      "source": []
    }
  ],
  "metadata": {
    "accelerator": "GPU",
    "colab": {
      "gpuType": "T4",
      "provenance": []
    },
    "kernelspec": {
      "display_name": "Python 3",
      "name": "python3"
    },
    "language_info": {
      "name": "python"
    }
  },
  "nbformat": 4,
  "nbformat_minor": 0
}
